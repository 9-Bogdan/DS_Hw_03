{
 "cells": [
  {
   "cell_type": "code",
   "execution_count": 2,
   "id": "7f01ffd3-0775-4d27-8bb2-66fe14f32ab4",
   "metadata": {},
   "outputs": [],
   "source": [
    "import numpy as np\n",
    "import pandas as pd\n",
    "from sklearn.linear_model import LinearRegression\n",
    "from sklearn.model_selection import train_test_split\n",
    "from sklearn.metrics import mean_squared_error\n",
    "from sklearn.preprocessing import StandardScaler"
   ]
  },
  {
   "cell_type": "code",
   "execution_count": 6,
   "id": "b87e0fbc-7f9e-4245-830f-821611faf92a",
   "metadata": {},
   "outputs": [
    {
     "name": "stdout",
     "output_type": "stream",
     "text": [
      "[ 6 12 18]\n"
     ]
    }
   ],
   "source": [
    "#напишіть функцію гіпотези лінійної регресії у векторному вигляді;\n",
    "def task_1(w,X):\n",
    "    return np.dot(X, w)\n",
    "w = np.array([1,2,3])\n",
    "X = np.array([\n",
    "    [1,1,1],\n",
    "    [2,2,2],\n",
    "    [3,3,3]\n",
    "])\n",
    "result = task_1(w,X)\n",
    "print(result)"
   ]
  },
  {
   "cell_type": "code",
   "execution_count": 3,
   "id": "fb81e7f8-a8ae-4d25-b86a-3c82a02545be",
   "metadata": {},
   "outputs": [
    {
     "name": "stdout",
     "output_type": "stream",
     "text": [
      "72.5\n"
     ]
    }
   ],
   "source": [
    "#створіть функцію для обчислення функції втрат у векторному вигляді;\n",
    "def task_2(w,X,y):\n",
    "    m = len(y) \n",
    "    hypot = np.dot(X, w)\n",
    "    return np.square(hypot - y).sum() / (2 * len(X))\n",
    "w = np.array([1,2,3])\n",
    "X = np.array([\n",
    "    [1,1,1],\n",
    "    [2,2,2],\n",
    "    [3,3,3]\n",
    "])\n",
    "y = np.array([1,1,1])\n",
    "result = task_2(w,X,y)\n",
    "print(result)"
   ]
  },
  {
   "cell_type": "code",
   "execution_count": 5,
   "id": "9ff532d3-4624-419e-99d7-36d54002039a",
   "metadata": {},
   "outputs": [
    {
     "name": "stdout",
     "output_type": "stream",
     "text": [
      "[-1.6 -0.6  0.4]\n"
     ]
    }
   ],
   "source": [
    "#реалізуйте один крок градієнтного спуску;\n",
    "def task_3(W,X,y,step):\n",
    "    m = len(y) \n",
    "    hypot = np.dot(X, W)\n",
    "    errors = hypot - y\n",
    "    gradient = (1 / m) * np.dot(X.T, errors)\n",
    "    result = W - step * gradient\n",
    "    return result\n",
    "W = np.array([1,2,3])\n",
    "X = np.array([\n",
    "    [1,1,1],\n",
    "    [2,2,2],\n",
    "    [3,3,3]\n",
    "])\n",
    "y = np.array([1,1,1])\n",
    "step = 0.1\n",
    "result = task_3(W,X,y,step)\n",
    "print(result)"
   ]
  },
  {
   "cell_type": "code",
   "execution_count": 4,
   "id": "df0902e3-0a92-4645-9481-b7f964c34754",
   "metadata": {},
   "outputs": [
    {
     "name": "stdout",
     "output_type": "stream",
     "text": [
      "Оптимальні вагові коефіцієнти (w1, w2, w3): [760642.88074097 269048.2662201  678224.07261084]\n",
      "Оптимальний зсув (w0): 4706527.385321101\n",
      "Середньоквадратична помилка: 2750040479309.0527\n"
     ]
    }
   ],
   "source": [
    "#знайдіть найкращі параметри $\\vec{w}$ для датасету прогнозуючу ціну на будинок залежно від площі, кількості ванних кімнат та кількості спалень;\n",
    "df = pd.read_csv(\"Housing.csv\")\n",
    "X = df[['area', 'bedrooms', 'bathrooms']]\n",
    "y = df['price']\n",
    "\n",
    "\n",
    "X_train, X_test, y_train, y_test = train_test_split(X, y, test_size=0.2, random_state=42)\n",
    "\n",
    "scaler = StandardScaler()\n",
    "X_train_scaled = scaler.fit_transform(X_train)\n",
    "X_test_scaled = scaler.transform(X_test)\n",
    "\n",
    "\n",
    "model = LinearRegression()\n",
    "model.fit(X_train_scaled, y_train)\n",
    "\n",
    "\n",
    "y_pred = model.predict(X_test_scaled)\n",
    "\n",
    "\n",
    "mse = mean_squared_error(y_test, y_pred)\n",
    "\n",
    "\n",
    "optimal_weights = model.coef_\n",
    "intercept = model.intercept_\n",
    "\n",
    "print(\"Оптимальні вагові коефіцієнти (w1, w2, w3):\", optimal_weights)\n",
    "print(\"Оптимальний зсув (w0):\", intercept)\n",
    "print(\"Середньоквадратична помилка:\", mse)"
   ]
  },
  {
   "cell_type": "code",
   "execution_count": 5,
   "id": "ae601cca-21fa-4664-a397-379ff3a6c34c",
   "metadata": {},
   "outputs": [
    {
     "name": "stdout",
     "output_type": "stream",
     "text": [
      "Оптимальні вагові коефіцієнти (w1, w2, w3): [760642.88074097 269048.2662201  678224.07261084]\n",
      "Оптимальний зсув (w0): 4706527.3853211\n"
     ]
    }
   ],
   "source": [
    "#знайдіть ці ж параметри за допомогою аналітичного рішення;\n",
    "X = np.column_stack((np.ones(len(X_train_scaled)), X_train_scaled)) \n",
    "Y = y_train.values\n",
    "\n",
    "\n",
    "weights = np.linalg.inv(X.T @ X) @ X.T @ Y\n",
    "\n",
    "\n",
    "intercept_analytical = weights[0]\n",
    "optimal_weights_analytical = weights[1:]\n",
    "\n",
    "print(\"Оптимальні вагові коефіцієнти (w1, w2, w3):\", optimal_weights_analytical)\n",
    "print(\"Оптимальний зсув (w0):\", intercept_analytical)"
   ]
  }
 ],
 "metadata": {
  "kernelspec": {
   "display_name": "Python 3 (ipykernel)",
   "language": "python",
   "name": "python3"
  },
  "language_info": {
   "codemirror_mode": {
    "name": "ipython",
    "version": 3
   },
   "file_extension": ".py",
   "mimetype": "text/x-python",
   "name": "python",
   "nbconvert_exporter": "python",
   "pygments_lexer": "ipython3",
   "version": "3.11.2"
  }
 },
 "nbformat": 4,
 "nbformat_minor": 5
}
